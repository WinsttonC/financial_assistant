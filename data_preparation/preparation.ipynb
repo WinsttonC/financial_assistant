{
 "cells": [
  {
   "cell_type": "code",
   "execution_count": 17,
   "metadata": {},
   "outputs": [],
   "source": [
    "import os\n",
    "import pandas as pd\n",
    "from datetime import datetime"
   ]
  },
  {
   "cell_type": "code",
   "execution_count": 14,
   "metadata": {},
   "outputs": [],
   "source": [
    "folder_path = r'C:\\Users\\Winston\\Мой диск\\Finance_DDE\\data'\n",
    "\n",
    "files = os.listdir(folder_path)\n",
    "\n",
    "for file in files:\n",
    "    file_path = os.path.join(folder_path, file)\n",
    "\n",
    "    columns = ['date', 'text', 'source']\n",
    "    df = pd.read_csv(file_path)\n",
    "    df = df.loc[:,columns]\n",
    "    df.to_csv(rf'C:\\Users\\Winston\\Мой диск\\Finance_DDE\\data\\updated\\{file}', index=False)"
   ]
  },
  {
   "cell_type": "code",
   "execution_count": 18,
   "metadata": {},
   "outputs": [],
   "source": [
    "folder_path = r'C:\\Users\\Winston\\Мой диск\\Finance_DDE\\data\\updated'\n",
    "dfs = []\n",
    "\n",
    "for file_name in os.listdir(folder_path):\n",
    "    if file_name.endswith('.csv'):\n",
    "        file_path = os.path.join(folder_path, file_name)\n",
    "        \n",
    "        df = pd.read_csv(file_path)\n",
    "        dfs.append(df)\n",
    "today_date = datetime.now()\n",
    "formatted_date = today_date.strftime('%Y-%m-%d')\n",
    "merged_df = pd.concat(dfs, ignore_index=True)\n",
    "merged_df.to_csv(rf'C:\\Users\\Winston\\Мой диск\\Finance_DDE\\data\\final\\{formatted_date}.csv', index=False)"
   ]
  },
  {
   "cell_type": "code",
   "execution_count": null,
   "metadata": {},
   "outputs": [],
   "source": [
    "a = pd.read_csv(r'C:\\Users\\Winston\\Мой диск\\Finance_DDE\\data\\final\\2024-01-26.csv')"
   ]
  }
 ],
 "metadata": {
  "kernelspec": {
   "display_name": "Python 3",
   "language": "python",
   "name": "python3"
  },
  "language_info": {
   "codemirror_mode": {
    "name": "ipython",
    "version": 3
   },
   "file_extension": ".py",
   "mimetype": "text/x-python",
   "name": "python",
   "nbconvert_exporter": "python",
   "pygments_lexer": "ipython3",
   "version": "3.11.3"
  },
  "orig_nbformat": 4
 },
 "nbformat": 4,
 "nbformat_minor": 2
}
